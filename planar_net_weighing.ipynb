{
 "cells": [
  {
   "cell_type": "markdown",
   "source": [
    "# Импорты"
   ],
   "metadata": {
    "collapsed": false,
    "pycharm": {
     "name": "#%% md\n"
    }
   }
  },
  {
   "cell_type": "code",
   "execution_count": 42,
   "outputs": [],
   "source": [
    "import itertools\n",
    "import random\n",
    "import typing as tp\n",
    "\n",
    "import networkx as nx\n",
    "import numpy as np\n",
    "import sympy.matrices as sp"
   ],
   "metadata": {
    "collapsed": false,
    "pycharm": {
     "name": "#%%\n"
    }
   }
  },
  {
   "cell_type": "markdown",
   "source": [
    "# Константы"
   ],
   "metadata": {
    "collapsed": false,
    "pycharm": {
     "name": "#%% md\n"
    }
   }
  },
  {
   "cell_type": "code",
   "execution_count": 43,
   "outputs": [],
   "source": [
    "EPS = 1e-5"
   ],
   "metadata": {
    "collapsed": false,
    "pycharm": {
     "name": "#%%\n"
    }
   }
  },
  {
   "cell_type": "markdown",
   "source": [
    "# Проверка матрицы на полную положительность и неотрицательность\n",
    "\n",
    "Идентичен коду из ноутбука `total_positivity.ipynb`"
   ],
   "metadata": {
    "collapsed": false,
    "pycharm": {
     "name": "#%% md\n"
    }
   }
  },
  {
   "cell_type": "code",
   "execution_count": 71,
   "outputs": [],
   "source": [
    "def calc_order(n: int):\n",
    "    for i in range(n):\n",
    "        for j in range(i, n):\n",
    "            yield i, j\n",
    "\n",
    "        for j in range(i + 1, n):\n",
    "            yield j, i\n",
    "\n",
    "\n",
    "def check_minor(mat: np.ndarray, i: int, j: int):\n",
    "    if i == j:\n",
    "        minor = np.round(np.linalg.det(mat[:(i + 1), :(j + 1)]))\n",
    "    elif j > i:\n",
    "        minor = np.round(np.linalg.det(mat[:(i + 1), (j - i):(j + 1)]))\n",
    "    else:\n",
    "        minor = np.round(np.linalg.det(mat[(i - j):(i + 1), :(j + 1)]))\n",
    "\n",
    "    if minor < EPS:\n",
    "        return False\n",
    "\n",
    "    return True\n",
    "\n",
    "\n",
    "def total_positivity_test(mat: np.ndarray):\n",
    "    n = mat.shape[0]\n",
    "\n",
    "    for i, j in calc_order(n):\n",
    "        if not check_minor(mat, i, j):\n",
    "            return False\n",
    "\n",
    "    return True\n",
    "\n",
    "\n",
    "def findsubsets(s: set, n: int):\n",
    "    return list(itertools.combinations(s, n))\n",
    "\n",
    "\n",
    "def total_non_negativity_test(mat: np.ndarray):\n",
    "    n = mat.shape[0]\n",
    "\n",
    "    indices = set([i for i in range(n)])\n",
    "\n",
    "    for k in range(n):\n",
    "        subsets = findsubsets(indices, k + 1)\n",
    "\n",
    "        for i in subsets:\n",
    "            for j in subsets:\n",
    "                submatrix = mat[i, :][:, j]\n",
    "\n",
    "                if np.round(np.linalg.det(submatrix)) < 0:\n",
    "                    return False\n",
    "\n",
    "    return True"
   ],
   "metadata": {
    "collapsed": false,
    "pycharm": {
     "name": "#%%\n"
    }
   }
  },
  {
   "cell_type": "markdown",
   "source": [
    "# Сущность планарной сети\n",
    "\n",
    "![NETWORK](planar_network.png)\n",
    "\n",
    "Планарная сеть представляется в виде графа, каждая вершина которого представляет собой пару $(i, j)$, где $i$ - номер уровня по вертикали, $j$ - номер вершины при нумерации слева направо на данном уровне.\n",
    "Нумерация (порядок) существенных ребер показан на картинке.\n",
    "\n",
    "Конструктор класса `PlanarNetwork` в качестве аргументов принимает размер планарной сети `n`, а также взвешивание `weighing` в порядке нумерации существенных ребер (не обязательный аргумент).\n",
    "\n",
    "Методы:\n",
    "\n",
    "`set_weighing` -- задаёт взвешивание существенных рёбер в порядке обхода\n",
    "\n",
    "`get_essent_edges` -- возвращает список существенных ребер\n",
    "\n",
    "`_get_row_width` -- вычисляет длину уровня\n",
    "\n",
    "`_calc_weight_sequence` -- по переданной матрице и порядку рассмотрения миноров матрицы восстанавливает взвешивание\n",
    "\n",
    "`_calc_order` -- выдаёт нужный порядок рассмотрения миноров матрицы\n",
    "\n",
    "`_next_essent_edge` -- по переданному существенному ребру вычисляет следующее по порядку существенное ребро (см. картинку)\n",
    "\n",
    "`fill_weights` -- по переданной положительной матрице вычисляет взвешивание планарной сети\n",
    "\n",
    "`calc_mat` -- вычисляет матрицу по взвешиванию сети"
   ],
   "metadata": {
    "collapsed": false,
    "pycharm": {
     "name": "#%% md\n"
    }
   }
  },
  {
   "cell_type": "code",
   "execution_count": 72,
   "outputs": [],
   "source": [
    "class PlanarNetwork:\n",
    "    def __init__(self, n: int, weighing: tp.List[float] = None):\n",
    "        self.network = nx.DiGraph()\n",
    "        self.n = n\n",
    "        self.weighing = np.ones(shape=n * n) if not weighing else np.array(weighing)\n",
    "        self.init_edge = ((1, 2), (1, 3)) if n > 1 else ((1, 1), (1, 2))\n",
    "\n",
    "        for i in range(1, n + 1):\n",
    "            last_idx = self._get_row_width(i)\n",
    "            for j in range(1, last_idx):\n",
    "                self.network.add_edge((i, j), (i, j + 1), weight=1, label='simple')\n",
    "\n",
    "        w_iter = iter(self.weighing)\n",
    "\n",
    "        self.network.add_edge(*self.init_edge, weight=next(w_iter, 0), label='essential')\n",
    "        edge = self._next_essent_edge(self.init_edge)\n",
    "\n",
    "        while edge != self.init_edge:\n",
    "            self.network.add_edge(*edge, weight=next(w_iter, 0), label='essential')\n",
    "            edge = self._next_essent_edge(edge)\n",
    "\n",
    "    def set_weighing(self, weighing: tp.List[float]):\n",
    "        w_iter = iter(weighing)\n",
    "\n",
    "        self.network[self.init_edge[0]][self.init_edge[1]]['weight'] = next(w_iter, 0)\n",
    "        edge = self._next_essent_edge(self.init_edge)\n",
    "\n",
    "        while edge != self.init_edge:\n",
    "            self.network[edge[0]][edge[1]]['weight'] = next(w_iter, 0)\n",
    "            edge = self._next_essent_edge(edge)\n",
    "\n",
    "        self.weighing = np.array(weighing)\n",
    "\n",
    "    def get_essent_edges(self):\n",
    "        return [edge for edge in self.network.edges.data() if edge[2]['label'] == 'essential']\n",
    "\n",
    "    def _get_row_width(self, i: int):\n",
    "        if i > self.n:\n",
    "            raise ValueError('Index out of bound')\n",
    "\n",
    "        if self.n == 1:\n",
    "            return 2\n",
    "\n",
    "        return 4 + 2 * (i - 1) if i < self.n else 2 + 2 * (i - 2)\n",
    "\n",
    "    def _calc_weight_sequence(self, mat: np.ndarray, order: tp.Sequence):\n",
    "        n = mat.shape[0]\n",
    "        minors = np.zeros(shape=(n, n))\n",
    "\n",
    "        prefix = 1\n",
    "\n",
    "        for minor in order:\n",
    "            i, j = minor\n",
    "\n",
    "            if i == j == 0:\n",
    "                minors[i, j] = mat[i, j]\n",
    "\n",
    "                prefix = mat[i, j]\n",
    "\n",
    "                yield mat[i, j]\n",
    "            elif i == j:\n",
    "                minors[i, j] = sp.Matrix(mat[:(i + 1), :(j + 1)]).det()\n",
    "\n",
    "                prefix = minors[i, j] / minors[i - 1, j - 1]\n",
    "\n",
    "                yield prefix\n",
    "            elif j > i:\n",
    "                minors[i, j] = sp.Matrix(mat[:(i + 1), (j - i):(j + 1)]).det()\n",
    "\n",
    "                ans = minors[i, j] / prefix\n",
    "\n",
    "                if i >= 1:\n",
    "                    ans /= minors[i - 1, j - 1]\n",
    "\n",
    "                prefix *= ans\n",
    "\n",
    "                yield ans\n",
    "            else:\n",
    "                minors[i, j] = sp.Matrix(mat[(i - j):(i + 1), :(j + 1)]).det()\n",
    "\n",
    "                if i == j + 1:\n",
    "                    prefix = minors[j, j] if j == 0 else minors[j, j] / minors[j - 1, j - 1]\n",
    "\n",
    "                ans = minors[i, j] / prefix\n",
    "\n",
    "                if j >= 1:\n",
    "                    ans /= minors[i - 1, j - 1]\n",
    "\n",
    "                prefix *= ans\n",
    "\n",
    "                yield ans\n",
    "\n",
    "    def _calc_order(self, n: int):\n",
    "        for i in range(n):\n",
    "            for j in range(i, n):\n",
    "                yield i, j\n",
    "\n",
    "            for j in range(i + 1, n):\n",
    "                yield j, i\n",
    "\n",
    "    def _next_essent_edge(self, edge: tp.Tuple[int, int]):\n",
    "        u, v = edge\n",
    "\n",
    "        if n == 1 or u == (self.n, self.n - 1) and v == (self.n, self.n):\n",
    "            return self.init_edge\n",
    "\n",
    "        if u == (self.n, self.n - 1):\n",
    "            return (self.n, self.n - 1), (self.n, self.n)\n",
    "\n",
    "        if u[0] == self.n:\n",
    "            return (u[1] + 1, u[1] + 2), (u[1] + 1, u[1] + 3)\n",
    "\n",
    "        if u[0] > v[0]:\n",
    "            if u[0] == self.n - 1:\n",
    "                return (u[0] + 1, u[1] - 1), u\n",
    "\n",
    "            return (u[0] + 1, u[1]), u\n",
    "\n",
    "        if v[0] == self.n:\n",
    "            shift = self._get_row_width(v[0]) + 1 - v[1]\n",
    "\n",
    "            if shift == self.n - 1:\n",
    "                return (shift + 1, shift), (shift, shift + 1)\n",
    "\n",
    "            return (shift + 1, shift + 1), (shift, shift + 1)\n",
    "\n",
    "        if v[0] >= u[0]:\n",
    "            if v[0] == self.n - 1:\n",
    "                return v, (v[0] + 1, v[1] - 1)\n",
    "\n",
    "            return v, (v[0] + 1, v[1] + 2)\n",
    "\n",
    "    def fill_weights(self, mat: np.ndarray):\n",
    "        if mat.shape[0] != self.n:\n",
    "            raise ValueError('Matrix dimension does not match network size')\n",
    "\n",
    "        cur_edge = self.init_edge\n",
    "\n",
    "        for i, w in enumerate(\n",
    "                self._calc_weight_sequence(\n",
    "                    mat,\n",
    "                    self._calc_order(mat.shape[0])\n",
    "                )\n",
    "        ):\n",
    "            self.network[cur_edge[0]][cur_edge[1]]['weight'] = w\n",
    "            cur_edge = self._next_essent_edge(cur_edge)\n",
    "            self.weighing[i] = w\n",
    "\n",
    "    def calc_mat(self):\n",
    "        mat = np.zeros(shape=(self.n, self.n))\n",
    "\n",
    "        for i in range(1, self.n + 1):\n",
    "            for j in range(1, self.n + 1):\n",
    "                src = (i, 1)\n",
    "                dst = (j, self._get_row_width(j))\n",
    "\n",
    "                for path in nx.all_simple_paths(\n",
    "                        self.network,\n",
    "                        source=src,\n",
    "                        target=dst,\n",
    "                ):\n",
    "                    prod = 1\n",
    "                    u = path[0]\n",
    "\n",
    "                    for v in path[1:]:\n",
    "                        prod *= self.network[u][v]['weight']\n",
    "                        u = v\n",
    "\n",
    "                    mat[i - 1, j - 1] += prod\n",
    "\n",
    "        return mat"
   ],
   "metadata": {
    "collapsed": false,
    "pycharm": {
     "name": "#%%\n"
    }
   }
  },
  {
   "cell_type": "markdown",
   "source": [
    "# Тесты"
   ],
   "metadata": {
    "collapsed": false,
    "pycharm": {
     "name": "#%% md\n"
    }
   }
  },
  {
   "cell_type": "code",
   "execution_count": 73,
   "outputs": [],
   "source": [
    "count = 100\n",
    "\n",
    "for n in range(1, 6):\n",
    "    network = PlanarNetwork(n)\n",
    "\n",
    "    for _ in range(count):\n",
    "        pos_weights = np.random.random(n * n) * 4 + 1\n",
    "\n",
    "        network.set_weighing(pos_weights.tolist())\n",
    "\n",
    "        mat = network.calc_mat()\n",
    "\n",
    "        assert total_non_negativity_test(mat)\n",
    "        assert total_positivity_test(mat)\n",
    "\n",
    "        network.fill_weights(mat)\n",
    "\n",
    "        assert np.linalg.norm(pos_weights - network.weighing) < EPS\n",
    "\n",
    "for n in range(2, 4):\n",
    "    network = PlanarNetwork(n)\n",
    "\n",
    "    for _ in range(count):\n",
    "        nonneg_weights = np.random.random(n * n) * 4 + 1\n",
    "\n",
    "        nonneg_weights[random.randint(0, len(nonneg_weights) - 1)] = 0\n",
    "\n",
    "        network.set_weighing(nonneg_weights.tolist())\n",
    "\n",
    "        mat = network.calc_mat()\n",
    "\n",
    "        assert total_non_negativity_test(mat)\n",
    "        assert not total_positivity_test(mat)"
   ],
   "metadata": {
    "collapsed": false,
    "pycharm": {
     "name": "#%%\n"
    }
   }
  },
  {
   "cell_type": "code",
   "execution_count": null,
   "outputs": [],
   "source": [],
   "metadata": {
    "collapsed": false,
    "pycharm": {
     "name": "#%%\n"
    }
   }
  }
 ],
 "metadata": {
  "kernelspec": {
   "display_name": "Python 3",
   "language": "python",
   "name": "python3"
  },
  "language_info": {
   "codemirror_mode": {
    "name": "ipython",
    "version": 2
   },
   "file_extension": ".py",
   "mimetype": "text/x-python",
   "name": "python",
   "nbconvert_exporter": "python",
   "pygments_lexer": "ipython2",
   "version": "2.7.6"
  }
 },
 "nbformat": 4,
 "nbformat_minor": 0
}