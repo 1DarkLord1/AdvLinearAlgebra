{
 "cells": [
  {
   "cell_type": "markdown",
   "source": [
    "# Импорты"
   ],
   "metadata": {
    "collapsed": false,
    "pycharm": {
     "name": "#%% md\n"
    }
   }
  },
  {
   "cell_type": "code",
   "execution_count": 2,
   "outputs": [],
   "source": [
    "import copy\n",
    "\n",
    "import numpy as np"
   ],
   "metadata": {
    "collapsed": false,
    "pycharm": {
     "name": "#%%\n"
    }
   }
  },
  {
   "cell_type": "markdown",
   "source": [
    "# Константы"
   ],
   "metadata": {
    "collapsed": false,
    "pycharm": {
     "name": "#%% md\n"
    }
   }
  },
  {
   "cell_type": "code",
   "execution_count": 3,
   "outputs": [],
   "source": [
    "MAX_ITERS_COUNT = 10000\n",
    "EPS = 1e-5"
   ],
   "metadata": {
    "collapsed": false,
    "pycharm": {
     "name": "#%%\n"
    }
   }
  },
  {
   "cell_type": "markdown",
   "source": [
    "# Процесс Синкхорна"
   ],
   "metadata": {
    "collapsed": false,
    "pycharm": {
     "name": "#%% md\n"
    }
   }
  },
  {
   "cell_type": "code",
   "execution_count": 4,
   "outputs": [],
   "source": [
    "def sinkhorn_process(mat: np.ndarray, r: np.ndarray, c: np.ndarray):\n",
    "    new_mat = copy.deepcopy(mat)\n",
    "    iters_count = 0\n",
    "\n",
    "    for _ in range(MAX_ITERS_COUNT):\n",
    "        iters_count += 1\n",
    "\n",
    "        row_scales = r / np.sum(new_mat, axis=1)\n",
    "\n",
    "        for j, scale in enumerate(row_scales):\n",
    "            new_mat[j, :] *= scale\n",
    "\n",
    "        col_scales = c / np.sum(new_mat, axis=0)\n",
    "\n",
    "        for j, scale in enumerate(col_scales):\n",
    "            new_mat[:, j] *= scale\n",
    "\n",
    "        row_sums = np.sum(new_mat, axis=1)\n",
    "\n",
    "        if np.linalg.norm(row_sums - r) < EPS:\n",
    "            break\n",
    "\n",
    "    return iters_count, new_mat\n",
    "\n",
    "def sinkhorn_doubly_stochastic(mat: np.ndarray):\n",
    "    return sinkhorn_process(\n",
    "        mat,\n",
    "        np.ones(shape=mat.shape[0], dtype=float),\n",
    "        np.ones(shape=mat.shape[1], dtype=float)\n",
    "    )"
   ],
   "metadata": {
    "collapsed": false,
    "pycharm": {
     "name": "#%%\n"
    }
   }
  },
  {
   "cell_type": "markdown",
   "source": [
    "# Запуск на случайных положительных матрицах"
   ],
   "metadata": {
    "collapsed": false,
    "pycharm": {
     "name": "#%% md\n"
    }
   }
  },
  {
   "cell_type": "code",
   "execution_count": 5,
   "outputs": [
    {
     "name": "stdout",
     "output_type": "stream",
     "text": [
      "Avg iterations count for 2x2 matrices: 3.524\n",
      "Avg iterations count for 3x3 matrices: 4.067\n",
      "Avg iterations count for 4x4 matrices: 4.109\n",
      "Avg iterations count for 5x5 matrices: 4.038\n",
      "Avg iterations count for 6x6 matrices: 3.981\n",
      "Avg iterations count for 7x7 matrices: 3.95\n",
      "Avg iterations count for 8x8 matrices: 3.897\n",
      "Avg iterations count for 9x9 matrices: 3.869\n",
      "Avg iterations count for 10x10 matrices: 3.838\n"
     ]
    }
   ],
   "source": [
    "def gen_random_matrices(n: int, cnt: int, scale: float, shift: float):\n",
    "    for _ in range(cnt):\n",
    "        yield np.random.random((n, n)) * scale + shift\n",
    "\n",
    "count = 1000\n",
    "\n",
    "for n in range(2, 11):\n",
    "    iter_sum = 0\n",
    "\n",
    "    for mat in gen_random_matrices(n, count, 1.5, 0.5):\n",
    "        iters, _ = sinkhorn_doubly_stochastic(mat)\n",
    "\n",
    "        assert iters != MAX_ITERS_COUNT\n",
    "\n",
    "        iter_sum += iters\n",
    "\n",
    "    print(f'Avg iterations count for {n}x{n} matrices: {np.round(iter_sum / count, 3)}')"
   ],
   "metadata": {
    "collapsed": false,
    "pycharm": {
     "name": "#%%\n"
    }
   }
  },
  {
   "cell_type": "markdown",
   "source": [
    "# Вспомогательные функции генерации случайных матриц с нулями"
   ],
   "metadata": {
    "collapsed": false,
    "pycharm": {
     "name": "#%% md\n"
    }
   }
  },
  {
   "cell_type": "code",
   "execution_count": 105,
   "outputs": [],
   "source": [
    "def check_zero_row(mat: np.ndarray):\n",
    "    for i in range(mat.shape[0]):\n",
    "        if not np.any(mat[i, :]):\n",
    "            return True\n",
    "\n",
    "    return False\n",
    "\n",
    "def gen_random_matrix_with_zeros(n: int, k: int, scale: float, shift: float):\n",
    "    mat = np.random.random((n, n)) * scale + shift\n",
    "\n",
    "    indices = np.random.permutation([(i, j) for i in range(n) for j in range(n)])[:k]\n",
    "\n",
    "    for i, j in indices:\n",
    "        mat[i, j] = 0\n",
    "\n",
    "    return mat\n",
    "\n",
    "def gen_random_matrices_with_zeros(n: int, k: int, cnt: int, scale: float, shift: float):\n",
    "    for _ in range(cnt):\n",
    "        mat = gen_random_matrix_with_zeros(n, k, scale, shift)\n",
    "\n",
    "        while check_zero_row(mat) or check_zero_row(mat.T):\n",
    "            mat = gen_random_matrix_with_zeros(n, k, scale, shift)\n",
    "\n",
    "        yield mat"
   ],
   "metadata": {
    "collapsed": false,
    "pycharm": {
     "name": "#%%\n"
    }
   }
  },
  {
   "cell_type": "markdown",
   "source": [
    "# Запуск на матрицах с нулями"
   ],
   "metadata": {
    "collapsed": false,
    "pycharm": {
     "name": "#%% md\n"
    }
   }
  },
  {
   "cell_type": "code",
   "execution_count": 115,
   "outputs": [
    {
     "name": "stdout",
     "output_type": "stream",
     "text": [
      "Avg iteration count for 4x4 matrices:  [6.43, 8.93, 611.06, 2210.28, 4907.64, 7503.88, 9301.02, 9600.36]\n",
      "Avg iteration count for 5x5 matrices:  [5.33, 6.3, 7.72, 8.82, 409.8, 811.39, 1511.9, 2212.5, 3611.54, 5908.15]\n",
      "Avg iteration count for 6x6 matrices:  [4.7, 5.3, 5.99, 6.5, 7.23, 8.29, 9.13, 109.81, 310.97, 412.11, 612.45, 814.3]\n",
      "Avg iteration count for 7x7 matrices:  [4.3, 4.85, 5.17, 5.52, 5.78, 6.34, 6.79, 7.27, 7.76, 8.56, 9.08, 9.76, 110.43, 211.12]\n",
      "Avg iteration count for 8x8 matrices:  [4.12, 4.44, 4.83, 5.03, 5.2, 5.44, 5.67, 5.86, 6.38, 6.38, 6.76, 7.18, 7.7, 7.89, 8.29, 8.74]\n",
      "Avg iteration count for 9x9 matrices:  [4.0, 4.2, 4.29, 4.59, 4.77, 4.97, 5.25, 5.38, 5.51, 5.67, 6.06, 6.05, 6.42, 6.55, 6.79, 7.12, 7.19, 7.39]\n",
      "Avg iteration count for 10x10 matrices:  [3.95, 4.09, 4.08, 4.31, 4.44, 4.68, 4.6, 4.84, 5.03, 5.18, 5.32, 5.45, 5.61, 5.58, 5.88, 6.04, 6.19, 6.27, 6.42, 6.54]\n"
     ]
    }
   ],
   "source": [
    "count = 100\n",
    "\n",
    "for n in range(4, 11):\n",
    "    line = []\n",
    "\n",
    "    for k in range(1, 2 * n + 1):\n",
    "        iter_sum = 0\n",
    "\n",
    "        for mat in gen_random_matrices_with_zeros(n, k, count, 1.5, 0.5):\n",
    "            iters, _ = sinkhorn_doubly_stochastic(mat)\n",
    "\n",
    "            iter_sum += iters\n",
    "\n",
    "        line.append(np.round(iter_sum / count, 3))\n",
    "\n",
    "    print(f'Avg iteration count for {n}x{n} matrices: ', line)"
   ],
   "metadata": {
    "collapsed": false,
    "pycharm": {
     "name": "#%%\n"
    }
   }
  },
  {
   "cell_type": "markdown",
   "source": [
    "# Неформальный вывод\n",
    "\n",
    "Посмотрим на получившиеся результаты запусков на матрицах различного размера с различным кол-вом нулей (число нулей возрастает слева направо). Если судить \"на глазок\", среднее число итераций пропорционально плотности нулей в матрице, т.е. величине $\\frac{k}{n^2}$, где $k$ - число нулей, а $n$ - размер стороны матрицы. Действительно, при всех размерах матриц число итераций увеличивается слева направо, а при размерах 4x4 и 5x5 число итераций переваливает за тысячу уже при наличии шести нулей."
   ],
   "metadata": {
    "collapsed": false,
    "pycharm": {
     "name": "#%% md\n"
    }
   }
  },
  {
   "cell_type": "code",
   "execution_count": null,
   "outputs": [],
   "source": [],
   "metadata": {
    "collapsed": false,
    "pycharm": {
     "name": "#%%\n"
    }
   }
  }
 ],
 "metadata": {
  "kernelspec": {
   "display_name": "Python 3",
   "language": "python",
   "name": "python3"
  },
  "language_info": {
   "codemirror_mode": {
    "name": "ipython",
    "version": 2
   },
   "file_extension": ".py",
   "mimetype": "text/x-python",
   "name": "python",
   "nbconvert_exporter": "python",
   "pygments_lexer": "ipython2",
   "version": "2.7.6"
  }
 },
 "nbformat": 4,
 "nbformat_minor": 0
}