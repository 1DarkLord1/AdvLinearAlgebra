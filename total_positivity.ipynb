{
 "cells": [
  {
   "cell_type": "markdown",
   "source": [
    "# Импорты"
   ],
   "metadata": {
    "collapsed": false,
    "pycharm": {
     "name": "#%% md\n"
    }
   }
  },
  {
   "cell_type": "code",
   "execution_count": 2,
   "outputs": [],
   "source": [
    "import numpy as np\n",
    "import itertools"
   ],
   "metadata": {
    "collapsed": false,
    "pycharm": {
     "name": "#%%\n"
    }
   }
  },
  {
   "cell_type": "markdown",
   "source": [
    "# Константы"
   ],
   "metadata": {
    "collapsed": false,
    "pycharm": {
     "name": "#%% md\n"
    }
   }
  },
  {
   "cell_type": "code",
   "execution_count": 3,
   "outputs": [],
   "source": [
    "EPS = 1e-4"
   ],
   "metadata": {
    "collapsed": false,
    "pycharm": {
     "name": "#%%\n"
    }
   }
  },
  {
   "cell_type": "markdown",
   "source": [
    "# Проверка матрица на полную положительность и неотрицательность"
   ],
   "metadata": {
    "collapsed": false,
    "pycharm": {
     "name": "#%% md\n"
    }
   }
  },
  {
   "cell_type": "code",
   "execution_count": 12,
   "outputs": [],
   "source": [
    "def calc_order(n: int):\n",
    "    for i in range(n):\n",
    "        for j in range(i, n):\n",
    "            yield i, j\n",
    "\n",
    "        for j in range(i + 1, n):\n",
    "            yield j, i\n",
    "\n",
    "\n",
    "def check_minor(mat: np.ndarray, i: int, j: int):\n",
    "    if i == j:\n",
    "        minor = np.round(np.linalg.det(mat[:(i + 1), :(j + 1)]))\n",
    "    elif j > i:\n",
    "        minor = np.round(np.linalg.det(mat[:(i + 1), (j - i):(j + 1)]))\n",
    "    else:\n",
    "        minor = np.round(np.linalg.det(mat[(i - j):(i + 1), :(j + 1)]))\n",
    "\n",
    "    if minor < EPS:\n",
    "        return False\n",
    "\n",
    "    return True\n",
    "\n",
    "\n",
    "def total_positivity_test(mat: np.ndarray):\n",
    "    n = mat.shape[0]\n",
    "\n",
    "    for i, j in calc_order(n):\n",
    "        if not check_minor(mat, i, j):\n",
    "            return False\n",
    "\n",
    "    return True\n",
    "\n",
    "def findsubsets(s: set, n: int):\n",
    "    return list(itertools.combinations(s, n))\n",
    "\n",
    "def total_non_negativity_test(mat: np.ndarray):\n",
    "    n = mat.shape[0]\n",
    "\n",
    "    indices = set([i for i in range(n)])\n",
    "\n",
    "    for k in range(n):\n",
    "        subsets = findsubsets(indices, k + 1)\n",
    "\n",
    "        for i in subsets:\n",
    "            for j in subsets:\n",
    "                submatrix = mat[i, :][:, j]\n",
    "\n",
    "                if np.round(np.linalg.det(submatrix)) < 0:\n",
    "                    return False\n",
    "\n",
    "    return True"
   ],
   "metadata": {
    "collapsed": false,
    "pycharm": {
     "name": "#%%\n"
    }
   }
  },
  {
   "cell_type": "markdown",
   "source": [
    "# Тесты"
   ],
   "metadata": {
    "collapsed": false,
    "pycharm": {
     "name": "#%% md\n"
    }
   }
  },
  {
   "cell_type": "code",
   "execution_count": 13,
   "outputs": [],
   "source": [
    "pos1 = np.array([[1, 2], [1, 3]])\n",
    "pos2 = np.array([[6, 7], [8, 10]])\n",
    "pos3 = np.array([[2, 4, 8], [3, 9, 27], [4, 16, 64]])\n",
    "\n",
    "nonneg1 = np.array([[1, 1], [3, 3]])\n",
    "nonneg2 = np.array([[2, 2], [2, 2]])\n",
    "nonneg3 = np.array([[1, 1, 1], [1, 1, 1], [1, 1, 1]])\n",
    "\n",
    "neg1 = np.array([[1, 2, 3], [4, 5, 6], [7, 8, 9]])\n",
    "neg2 = np.array([[10, 8, 7], [2, 42, 1], [7, 3, 13]])\n",
    "\n",
    "assert total_positivity_test(pos1)\n",
    "assert total_positivity_test(pos2)\n",
    "assert total_positivity_test(pos3)\n",
    "\n",
    "assert total_non_negativity_test(nonneg1)\n",
    "assert total_non_negativity_test(nonneg2)\n",
    "assert total_non_negativity_test(nonneg3)\n",
    "assert total_non_negativity_test(pos1)\n",
    "assert total_non_negativity_test(pos2)\n",
    "assert total_non_negativity_test(pos3)\n",
    "\n",
    "assert not total_positivity_test(nonneg1)\n",
    "assert not total_positivity_test(nonneg2)\n",
    "assert not total_positivity_test(nonneg3)\n",
    "\n",
    "assert not total_non_negativity_test(neg1)\n",
    "assert not total_non_negativity_test(neg2)\n",
    "assert not total_positivity_test(neg1)\n",
    "assert not total_positivity_test(neg2)"
   ],
   "metadata": {
    "collapsed": false,
    "pycharm": {
     "name": "#%%\n"
    }
   }
  },
  {
   "cell_type": "markdown",
   "source": [
    "# Функция для подсчета вполне положительных матриц размера nxn с элементами от 1 до d"
   ],
   "metadata": {
    "collapsed": false,
    "pycharm": {
     "name": "#%% md\n"
    }
   }
  },
  {
   "cell_type": "code",
   "execution_count": 80,
   "outputs": [],
   "source": [
    "def count_matrices(n: int, d: int):\n",
    "    def dfs(i: int, j: int, mat: np.ndarray):\n",
    "        cnt = 0\n",
    "\n",
    "        for m in range(1, d + 1):\n",
    "            mat[i, j] = m\n",
    "\n",
    "            if not check_minor(mat, i, j):\n",
    "                continue\n",
    "\n",
    "            if i == j == n - 1:\n",
    "                cnt += 1\n",
    "                continue\n",
    "\n",
    "            if i == n - 1:\n",
    "                cnt += dfs(j + 1, j + 1, mat)\n",
    "                continue\n",
    "\n",
    "            if j == n - 1:\n",
    "                cnt += dfs(i + 1, i, mat)\n",
    "                continue\n",
    "\n",
    "            if i > j:\n",
    "                cnt += dfs(i + 1, j, mat)\n",
    "            else:\n",
    "                cnt += dfs(i, j + 1, mat)\n",
    "\n",
    "        return cnt\n",
    "\n",
    "    mat = np.zeros(shape=(n, n))\n",
    "\n",
    "    return dfs(0, 0, mat)"
   ],
   "metadata": {
    "collapsed": false,
    "pycharm": {
     "name": "#%%\n"
    }
   }
  },
  {
   "cell_type": "markdown",
   "source": [
    "# Функция для красивого вывода таблицы на экран"
   ],
   "metadata": {
    "collapsed": false,
    "pycharm": {
     "name": "#%% md\n"
    }
   }
  },
  {
   "cell_type": "code",
   "execution_count": 81,
   "outputs": [],
   "source": [
    "def matrix_pretty_print(mat: np.ndarray):\n",
    "    for i in range(mat.shape[0]):\n",
    "        line = ''\n",
    "\n",
    "        for j in range(mat.shape[1]):\n",
    "            line += f'{int(mat[i, j]):12}'\n",
    "\n",
    "        print(line)\n"
   ],
   "metadata": {
    "collapsed": false,
    "pycharm": {
     "name": "#%%\n"
    }
   }
  },
  {
   "cell_type": "markdown",
   "source": [
    "# Пересчёт самой таблицы"
   ],
   "metadata": {
    "collapsed": false,
    "pycharm": {
     "name": "#%% md\n"
    }
   }
  },
  {
   "cell_type": "code",
   "execution_count": 82,
   "outputs": [
    {
     "name": "stdout",
     "output_type": "stream",
     "text": [
      "           1           2           3           4           5           6           7\n",
      "           0           5          33         112         288         605        1145\n",
      "           0           0          22         597        7178       43090      207494\n",
      "           0           0           0           0         156          -1          -1\n",
      "           0           0           0           0          -1          -1          -1\n",
      "           0           0           0          -1          -1          -1          -1\n"
     ]
    }
   ],
   "source": [
    "from IPython.display import clear_output\n",
    "\n",
    "excluded = [(4, 6), (4, 7), (5, 5), (5, 6), (5, 7), (6, 4), (6, 5), (6, 6), (6, 7)]\n",
    "\n",
    "counts = np.full(shape=(6, 7), fill_value=-1)\n",
    "\n",
    "for n in range(1, 7):\n",
    "    for d in range(1, 8):\n",
    "        if (n, d) in excluded:\n",
    "            continue\n",
    "\n",
    "        counts[n - 1, d - 1] = count_matrices(n, d)\n",
    "\n",
    "        clear_output(wait=True)\n",
    "        matrix_pretty_print(counts)"
   ],
   "metadata": {
    "collapsed": false,
    "pycharm": {
     "name": "#%%\n"
    }
   }
  },
  {
   "cell_type": "code",
   "execution_count": null,
   "outputs": [],
   "source": [],
   "metadata": {
    "collapsed": false,
    "pycharm": {
     "name": "#%%\n"
    }
   }
  }
 ],
 "metadata": {
  "kernelspec": {
   "display_name": "Python 3",
   "language": "python",
   "name": "python3"
  },
  "language_info": {
   "codemirror_mode": {
    "name": "ipython",
    "version": 2
   },
   "file_extension": ".py",
   "mimetype": "text/x-python",
   "name": "python",
   "nbconvert_exporter": "python",
   "pygments_lexer": "ipython2",
   "version": "2.7.6"
  }
 },
 "nbformat": 4,
 "nbformat_minor": 0
}